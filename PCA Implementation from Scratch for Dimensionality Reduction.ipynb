{
 "nbformat": 4,
 "nbformat_minor": 0,
 "metadata": {
  "colab": {
   "provenance": []
  },
  "kernelspec": {
   "name": "python3",
   "display_name": "Python 3"
  },
  "language_info": {
   "name": "python"
  }
 },
 "cells": [
  {
   "cell_type": "markdown",
   "source": [
    "# PCA\n",
    "* Group 19\n",
    "* Phase 1\n",
    "* 20190183\n",
    "* 20190593\n",
    "* 20190645"
   ],
   "metadata": {
    "id": "LkSVSxLCbLZY"
   }
  },
  {
   "cell_type": "markdown",
   "source": [
    "# 1- Import"
   ],
   "metadata": {
    "id": "zxqm9s0Wb5Gj"
   }
  },
  {
   "cell_type": "code",
   "execution_count": 1,
   "metadata": {
    "id": "aENqGM7nalWN"
   },
   "outputs": [],
   "source": [
    "import numpy as np\n",
    "import pandas as pd\n",
    "import matplotlib.pyplot as plt\n",
    "%matplotlib inline\n",
    "from sklearn.datasets import load_iris\n",
    "from sklearn.preprocessing import StandardScaler\n"
   ]
  },
  {
   "cell_type": "markdown",
   "source": [
    "# 2 - Load Dataset"
   ],
   "metadata": {
    "id": "F9_6krbscDD2"
   }
  },
  {
   "cell_type": "code",
   "source": [
    "iris = load_iris()\n",
    "# Make DataSet is unlabeled\n",
    "iris_df = pd.DataFrame(iris.data,columns=[iris.feature_names])"
   ],
   "metadata": {
    "id": "_fcVtp89c8fo"
   },
   "execution_count": 7,
   "outputs": []
  },
  {
   "cell_type": "code",
   "source": [
    "iris_df.columns=iris_df.columns.sort_values()\n",
    "iris_df.head()"
   ],
   "metadata": {
    "colab": {
     "base_uri": "https://localhost:8080/",
     "height": 206
    },
    "id": "mqh4JHBBdU1v",
    "outputId": "b64a9ec6-dc0e-491c-aff2-15925333f5f2"
   },
   "execution_count": 8,
   "outputs": [
    {
     "output_type": "execute_result",
     "data": {
      "text/plain": [
       "  petal length (cm) petal width (cm) sepal length (cm) sepal width (cm)\n",
       "0               5.1              3.5               1.4              0.2\n",
       "1               4.9              3.0               1.4              0.2\n",
       "2               4.7              3.2               1.3              0.2\n",
       "3               4.6              3.1               1.5              0.2\n",
       "4               5.0              3.6               1.4              0.2"
      ],
      "text/html": [
       "\n",
       "  <div id=\"df-40392f85-4a8b-4979-961b-acd92acfcbf8\">\n",
       "    <div class=\"colab-df-container\">\n",
       "      <div>\n",
       "<style scoped>\n",
       "    .dataframe tbody tr th:only-of-type {\n",
       "        vertical-align: middle;\n",
       "    }\n",
       "\n",
       "    .dataframe tbody tr th {\n",
       "        vertical-align: top;\n",
       "    }\n",
       "\n",
       "    .dataframe thead tr th {\n",
       "        text-align: left;\n",
       "    }\n",
       "</style>\n",
       "<table border=\"1\" class=\"dataframe\">\n",
       "  <thead>\n",
       "    <tr>\n",
       "      <th></th>\n",
       "      <th>petal length (cm)</th>\n",
       "      <th>petal width (cm)</th>\n",
       "      <th>sepal length (cm)</th>\n",
       "      <th>sepal width (cm)</th>\n",
       "    </tr>\n",
       "  </thead>\n",
       "  <tbody>\n",
       "    <tr>\n",
       "      <th>0</th>\n",
       "      <td>5.1</td>\n",
       "      <td>3.5</td>\n",
       "      <td>1.4</td>\n",
       "      <td>0.2</td>\n",
       "    </tr>\n",
       "    <tr>\n",
       "      <th>1</th>\n",
       "      <td>4.9</td>\n",
       "      <td>3.0</td>\n",
       "      <td>1.4</td>\n",
       "      <td>0.2</td>\n",
       "    </tr>\n",
       "    <tr>\n",
       "      <th>2</th>\n",
       "      <td>4.7</td>\n",
       "      <td>3.2</td>\n",
       "      <td>1.3</td>\n",
       "      <td>0.2</td>\n",
       "    </tr>\n",
       "    <tr>\n",
       "      <th>3</th>\n",
       "      <td>4.6</td>\n",
       "      <td>3.1</td>\n",
       "      <td>1.5</td>\n",
       "      <td>0.2</td>\n",
       "    </tr>\n",
       "    <tr>\n",
       "      <th>4</th>\n",
       "      <td>5.0</td>\n",
       "      <td>3.6</td>\n",
       "      <td>1.4</td>\n",
       "      <td>0.2</td>\n",
       "    </tr>\n",
       "  </tbody>\n",
       "</table>\n",
       "</div>\n",
       "      <button class=\"colab-df-convert\" onclick=\"convertToInteractive('df-40392f85-4a8b-4979-961b-acd92acfcbf8')\"\n",
       "              title=\"Convert this dataframe to an interactive table.\"\n",
       "              style=\"display:none;\">\n",
       "        \n",
       "  <svg xmlns=\"http://www.w3.org/2000/svg\" height=\"24px\"viewBox=\"0 0 24 24\"\n",
       "       width=\"24px\">\n",
       "    <path d=\"M0 0h24v24H0V0z\" fill=\"none\"/>\n",
       "    <path d=\"M18.56 5.44l.94 2.06.94-2.06 2.06-.94-2.06-.94-.94-2.06-.94 2.06-2.06.94zm-11 1L8.5 8.5l.94-2.06 2.06-.94-2.06-.94L8.5 2.5l-.94 2.06-2.06.94zm10 10l.94 2.06.94-2.06 2.06-.94-2.06-.94-.94-2.06-.94 2.06-2.06.94z\"/><path d=\"M17.41 7.96l-1.37-1.37c-.4-.4-.92-.59-1.43-.59-.52 0-1.04.2-1.43.59L10.3 9.45l-7.72 7.72c-.78.78-.78 2.05 0 2.83L4 21.41c.39.39.9.59 1.41.59.51 0 1.02-.2 1.41-.59l7.78-7.78 2.81-2.81c.8-.78.8-2.07 0-2.86zM5.41 20L4 18.59l7.72-7.72 1.47 1.35L5.41 20z\"/>\n",
       "  </svg>\n",
       "      </button>\n",
       "      \n",
       "  <style>\n",
       "    .colab-df-container {\n",
       "      display:flex;\n",
       "      flex-wrap:wrap;\n",
       "      gap: 12px;\n",
       "    }\n",
       "\n",
       "    .colab-df-convert {\n",
       "      background-color: #E8F0FE;\n",
       "      border: none;\n",
       "      border-radius: 50%;\n",
       "      cursor: pointer;\n",
       "      display: none;\n",
       "      fill: #1967D2;\n",
       "      height: 32px;\n",
       "      padding: 0 0 0 0;\n",
       "      width: 32px;\n",
       "    }\n",
       "\n",
       "    .colab-df-convert:hover {\n",
       "      background-color: #E2EBFA;\n",
       "      box-shadow: 0px 1px 2px rgba(60, 64, 67, 0.3), 0px 1px 3px 1px rgba(60, 64, 67, 0.15);\n",
       "      fill: #174EA6;\n",
       "    }\n",
       "\n",
       "    [theme=dark] .colab-df-convert {\n",
       "      background-color: #3B4455;\n",
       "      fill: #D2E3FC;\n",
       "    }\n",
       "\n",
       "    [theme=dark] .colab-df-convert:hover {\n",
       "      background-color: #434B5C;\n",
       "      box-shadow: 0px 1px 3px 1px rgba(0, 0, 0, 0.15);\n",
       "      filter: drop-shadow(0px 1px 2px rgba(0, 0, 0, 0.3));\n",
       "      fill: #FFFFFF;\n",
       "    }\n",
       "  </style>\n",
       "\n",
       "      <script>\n",
       "        const buttonEl =\n",
       "          document.querySelector('#df-40392f85-4a8b-4979-961b-acd92acfcbf8 button.colab-df-convert');\n",
       "        buttonEl.style.display =\n",
       "          google.colab.kernel.accessAllowed ? 'block' : 'none';\n",
       "\n",
       "        async function convertToInteractive(key) {\n",
       "          const element = document.querySelector('#df-40392f85-4a8b-4979-961b-acd92acfcbf8');\n",
       "          const dataTable =\n",
       "            await google.colab.kernel.invokeFunction('convertToInteractive',\n",
       "                                                     [key], {});\n",
       "          if (!dataTable) return;\n",
       "\n",
       "          const docLinkHtml = 'Like what you see? Visit the ' +\n",
       "            '<a target=\"_blank\" href=https://colab.research.google.com/notebooks/data_table.ipynb>data table notebook</a>'\n",
       "            + ' to learn more about interactive tables.';\n",
       "          element.innerHTML = '';\n",
       "          dataTable['output_type'] = 'display_data';\n",
       "          await google.colab.output.renderOutput(dataTable, element);\n",
       "          const docLink = document.createElement('div');\n",
       "          docLink.innerHTML = docLinkHtml;\n",
       "          element.appendChild(docLink);\n",
       "        }\n",
       "      </script>\n",
       "    </div>\n",
       "  </div>\n",
       "  "
      ]
     },
     "metadata": {},
     "execution_count": 8
    }
   ]
  },
  {
   "cell_type": "code",
   "source": [
    "X = iris_df.iloc[:,:]\n",
    "# Shape (rows , columns)\n",
    "X.shape"
   ],
   "metadata": {
    "colab": {
     "base_uri": "https://localhost:8080/"
    },
    "id": "nK8a9bMFdi00",
    "outputId": "eed85233-0e5b-4c74-fff3-6be7273a9abd"
   },
   "execution_count": 9,
   "outputs": [
    {
     "output_type": "execute_result",
     "data": {
      "text/plain": [
       "(150, 4)"
      ]
     },
     "metadata": {},
     "execution_count": 9
    }
   ]
  },
  {
   "cell_type": "code",
   "source": [
    "# Standralization\n",
    "X = StandardScaler().fit_transform(X)\n",
    "print(X[0:5])"
   ],
   "metadata": {
    "colab": {
     "base_uri": "https://localhost:8080/"
    },
    "id": "EZMHOAAYd-lT",
    "outputId": "1f0b6f9c-86e2-4e14-c163-54b99968f422"
   },
   "execution_count": 10,
   "outputs": [
    {
     "output_type": "stream",
     "name": "stdout",
     "text": [
      "[[-0.90068117  1.01900435 -1.34022653 -1.3154443 ]\n",
      " [-1.14301691 -0.13197948 -1.34022653 -1.3154443 ]\n",
      " [-1.38535265  0.32841405 -1.39706395 -1.3154443 ]\n",
      " [-1.50652052  0.09821729 -1.2833891  -1.3154443 ]\n",
      " [-1.02184904  1.24920112 -1.34022653 -1.3154443 ]]\n"
     ]
    },
    {
     "output_type": "stream",
     "name": "stderr",
     "text": [
      "/usr/local/lib/python3.8/dist-packages/sklearn/utils/validation.py:1688: FutureWarning: Feature names only support names that are all strings. Got feature names with dtypes: ['tuple']. An error will be raised in 1.2.\n",
      "  warnings.warn(\n",
      "/usr/local/lib/python3.8/dist-packages/sklearn/utils/validation.py:1688: FutureWarning: Feature names only support names that are all strings. Got feature names with dtypes: ['tuple']. An error will be raised in 1.2.\n",
      "  warnings.warn(\n"
     ]
    }
   ]
  },
  {
   "cell_type": "markdown",
   "source": [
    "# 3 - PCA From Scratch"
   ],
   "metadata": {
    "id": "wLLzIoC4eWyo"
   }
  },
  {
   "cell_type": "code",
   "source": [
    "class PCA:\n",
    "     \n",
    "    def __init__(self,number_of_important_features=2):\n",
    "        # number of specified features\n",
    "        # Default being passed as 2\n",
    "        self.number_of_important_features=number_of_important_features\n",
    "        # Best possible features\n",
    "        self.features=None\n",
    "        self._mean=None\n",
    "        \n",
    "        \n",
    "    def fit(self,X):\n",
    "\n",
    "# 1- X_Meaned\n",
    "        # placing mean to as origin of axis\n",
    "        # axis =0 is mean of rows along the column direction \n",
    "        # X (Meaned) = X - Mean\n",
    "        self._mean=np.mean(X,axis=0)\n",
    "        X=X-self._mean\n",
    "        \n",
    "# 2- Covariance Matrix\n",
    "        # Co-variance of N,D  ---> DxD\n",
    "        covariance=np.dot(X.T,X)/(X.shape[0]-1)\n",
    "        print(\"Cov_shape : \",covariance.shape)\n",
    "\n",
    "# 3- Eigen Values , Vectors\n",
    "        eigenvalues,eigenvector=np.linalg.eig(covariance)\n",
    "\n",
    "        # eigen values\n",
    "        print(\"eigenvalues-->\",eigenvalues.shape)\n",
    "        print(\"eigenvalues \\n\",eigenvalues)\n",
    "\n",
    "        # eigen vectors\n",
    "        print(\"eigenvector-->\",eigenvector.shape)\n",
    "        print(\"eigenvector \\n\",eigenvector)\n",
    "\n",
    "# 4 - sort the eigenvalues from highest to lowest\n",
    "        eigenvector=eigenvector.T\n",
    "        print(\"eigenvector.T-->\",eigenvector.shape)\n",
    "        print(\"eigenvector after Transpose\\n\",eigenvector)\n",
    "        #sort\n",
    "        indexs=np.argsort(eigenvalues)[::-1]\n",
    "        #taking those indices and storing in eigenvalues and eigenvectors accordingly\n",
    "        eigenvector=eigenvector[indexs]\n",
    "        print(\"eigenvector-indexs-->\",eigenvector.shape)\n",
    "        print(\"eigenvector after indexes \\n\",eigenvector)\n",
    "        eigenvalues=eigenvalues[indexs]\n",
    "        print(\"eigenvalues-indexs-->\",eigenvalues.shape)\n",
    "        print(\"eigenvalues \\n\",eigenvalues)\n",
    "        \n",
    "        ## variance of each feature\n",
    "        total = sum(eigenvalues)\n",
    "        variance_of_each_feature = [(i / total)*100 for i in eigenvalues]\n",
    "        print(\"variance of each feature-->\",variance_of_each_feature)\n",
    "        \n",
    "# 5- Now taking only  specified componenets\n",
    "        self.features=eigenvector[:self.number_of_important_features]\n",
    "        print(\"self.features\",self.features.shape)\n",
    "        # So, now we have chosen most significant features componenet\n",
    "        \n",
    "# 6- Applying PCA\n",
    "    def apply(self,X):\n",
    "        # Here we project the data onto Principal component line\n",
    "        X=X-self._mean\n",
    "        # Here X-->(N,4);self.features-->2,4\n",
    "        # (X,self.features.T)-->(N,4)x(4,2)==(N,2) i.e N samples with 2 feature vector \n",
    "        return np.dot(X,self.features.T)"
   ],
   "metadata": {
    "id": "NK6UGKX6eTfX"
   },
   "execution_count": 11,
   "outputs": []
  },
  {
   "cell_type": "code",
   "source": [
    "# Set No. of Components\n",
    "pca=PCA(2)"
   ],
   "metadata": {
    "id": "nLuyZApxkuMV"
   },
   "execution_count": 27,
   "outputs": []
  },
  {
   "cell_type": "code",
   "source": [
    "# fitting\n",
    "pca.fit(X)"
   ],
   "metadata": {
    "colab": {
     "base_uri": "https://localhost:8080/"
    },
    "id": "70woKgEAkv_E",
    "outputId": "b693f388-3103-400a-96cd-74de5202ee67"
   },
   "execution_count": 28,
   "outputs": [
    {
     "output_type": "stream",
     "name": "stdout",
     "text": [
      "Cov_shape :  (4, 4)\n",
      "eigenvalues--> (4,)\n",
      "eigenvalues \n",
      " [2.93808505 0.9201649  0.14774182 0.02085386]\n",
      "eigenvector--> (4, 4)\n",
      "eigenvector \n",
      " [[ 0.52106591 -0.37741762 -0.71956635  0.26128628]\n",
      " [-0.26934744 -0.92329566  0.24438178 -0.12350962]\n",
      " [ 0.5804131  -0.02449161  0.14212637 -0.80144925]\n",
      " [ 0.56485654 -0.06694199  0.63427274  0.52359713]]\n",
      "eigenvector.T--> (4, 4)\n",
      "eigenvector after Transpose\n",
      " [[ 0.52106591 -0.26934744  0.5804131   0.56485654]\n",
      " [-0.37741762 -0.92329566 -0.02449161 -0.06694199]\n",
      " [-0.71956635  0.24438178  0.14212637  0.63427274]\n",
      " [ 0.26128628 -0.12350962 -0.80144925  0.52359713]]\n",
      "eigenvector-indexs--> (4, 4)\n",
      "eigenvector after indexes \n",
      " [[ 0.52106591 -0.26934744  0.5804131   0.56485654]\n",
      " [-0.37741762 -0.92329566 -0.02449161 -0.06694199]\n",
      " [-0.71956635  0.24438178  0.14212637  0.63427274]\n",
      " [ 0.26128628 -0.12350962 -0.80144925  0.52359713]]\n",
      "eigenvalues-indexs--> (4,)\n",
      "eigenvalues \n",
      " [2.93808505 0.9201649  0.14774182 0.02085386]\n",
      "variance of each feature--> [72.9624454132999, 22.850761786701746, 3.6689218892828572, 0.5178709107154905]\n",
      "self.features (2, 4)\n"
     ]
    }
   ]
  },
  {
   "cell_type": "markdown",
   "source": [
    "* **Select The most 2 important components According to highest varinces of each feature**\n",
    "* **As you can see the variance of first two features equals :**\n",
    "\n",
    "  **72.9624454132999 + 22.850761786701746 = 95.813207200001646**\n",
    "   \n",
    "  **---> Thus we chose these two as PCA**\n"
   ],
   "metadata": {
    "id": "DANhZ_z_nQRZ"
   }
  },
  {
   "cell_type": "markdown",
   "source": [
    "# 4 - Plotting "
   ],
   "metadata": {
    "id": "zERr2zpDlwi6"
   }
  },
  {
   "cell_type": "code",
   "source": [
    "projected=pca.apply(X)\n"
   ],
   "metadata": {
    "id": "McsOftXOmKSO"
   },
   "execution_count": 29,
   "outputs": []
  },
  {
   "cell_type": "code",
   "source": [
    "x0=projected[:,0]\n",
    "x1=projected[:,1]"
   ],
   "metadata": {
    "id": "Dntyk992mMu0"
   },
   "execution_count": 30,
   "outputs": []
  },
  {
   "cell_type": "code",
   "source": [
    "y=iris.target"
   ],
   "metadata": {
    "id": "aA38QnIhmT4B"
   },
   "execution_count": 31,
   "outputs": []
  },
  {
   "cell_type": "code",
   "source": [
    "plt.scatter(x0,x1,c=y)"
   ],
   "metadata": {
    "colab": {
     "base_uri": "https://localhost:8080/",
     "height": 283
    },
    "id": "hUt_LWs6mYHJ",
    "outputId": "8f79c6ac-dfa6-455e-a1d1-02a2068af2d7"
   },
   "execution_count": 32,
   "outputs": [
    {
     "output_type": "execute_result",
     "data": {
      "text/plain": [
       "<matplotlib.collections.PathCollection at 0x7f4451cfbf10>"
      ]
     },
     "metadata": {},
     "execution_count": 32
    },
    {
     "output_type": "display_data",
     "data": {
      "text/plain": [
       "<Figure size 432x288 with 1 Axes>"
      ],
      "image/png": "[encoded data removed]"
     },
     "metadata": {
      "needs_background": "light"
     }
    }
   ]
  },
  {
   "cell_type": "markdown",
   "source": [
    "**It Gives a good Variance in plot As we Takes The Most 2 Importnat Featuers As Our PCA Components**"
   ],
   "metadata": {
    "id": "1I_oTaOzpSXQ"
   }
  }
 ]
}
